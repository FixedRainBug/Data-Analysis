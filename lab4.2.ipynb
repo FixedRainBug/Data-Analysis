{
 "cells": [
  {
   "cell_type": "code",
   "execution_count": 1,
   "id": "3c5fdf3b-324e-4e64-85ac-020698c61d24",
   "metadata": {},
   "outputs": [],
   "source": [
    "from keras.datasets import fashion_mnist\n",
    "from keras.models import Sequential\n",
    "from keras.layers import Dense, Dropout, Conv2D, MaxPool2D, Flatten\n",
    "from keras.utils import np_utils\n",
    "from sklearn.metrics import accuracy_score\n",
    "\n",
    "import matplotlib.pyplot as plt"
   ]
  },
  {
   "cell_type": "code",
   "execution_count": 2,
   "id": "f24b4752-9e40-49c4-be10-5ad64556b706",
   "metadata": {},
   "outputs": [],
   "source": [
    "(X_train, y_train), (X_test, y_test) = fashion_mnist.load_data()\n",
    "\n",
    "X_train = X_train.reshape(X_train.shape[0], 28, 28, 1)\n",
    "X_test = X_test.reshape(X_test.shape[0], 28, 28, 1)\n",
    "X_train = X_train.astype('float32')\n",
    "X_test = X_test.astype('float32')\n",
    "\n",
    "X_train /= 255\n",
    "X_test /= 255"
   ]
  },
  {
   "cell_type": "code",
   "execution_count": 3,
   "id": "c4ce6441-1aad-417d-b2cd-e6f81052a476",
   "metadata": {},
   "outputs": [],
   "source": [
    "n_classes = 10\n",
    "\n",
    "Y_train = np_utils.to_categorical(y_train, n_classes)\n",
    "Y_test = np_utils.to_categorical(y_test, n_classes)\n"
   ]
  },
  {
   "cell_type": "code",
   "execution_count": 5,
   "id": "fe3283eb-af9b-49d4-b749-816d56182fc1",
   "metadata": {},
   "outputs": [
    {
     "name": "stdout",
     "output_type": "stream",
     "text": [
      "Epoch 1/10\n",
      "469/469 [==============================] - 16s 34ms/step - loss: 0.4460 - accuracy: 0.8425 - val_loss: 0.3480 - val_accuracy: 0.8767\n",
      "Epoch 2/10\n",
      "469/469 [==============================] - 16s 33ms/step - loss: 0.2937 - accuracy: 0.8938 - val_loss: 0.3037 - val_accuracy: 0.8879\n",
      "Epoch 3/10\n",
      "469/469 [==============================] - 16s 34ms/step - loss: 0.2473 - accuracy: 0.9106 - val_loss: 0.2925 - val_accuracy: 0.8957\n",
      "Epoch 4/10\n",
      "469/469 [==============================] - 16s 33ms/step - loss: 0.2122 - accuracy: 0.9232 - val_loss: 0.3061 - val_accuracy: 0.8902\n",
      "Epoch 5/10\n",
      "469/469 [==============================] - 16s 34ms/step - loss: 0.1872 - accuracy: 0.9316 - val_loss: 0.2883 - val_accuracy: 0.8947\n",
      "Epoch 6/10\n",
      "469/469 [==============================] - 16s 33ms/step - loss: 0.1653 - accuracy: 0.9401 - val_loss: 0.2746 - val_accuracy: 0.9055\n",
      "Epoch 7/10\n",
      "469/469 [==============================] - 16s 34ms/step - loss: 0.1467 - accuracy: 0.9463 - val_loss: 0.2876 - val_accuracy: 0.9047\n",
      "Epoch 8/10\n",
      "469/469 [==============================] - 16s 34ms/step - loss: 0.1274 - accuracy: 0.9550 - val_loss: 0.2850 - val_accuracy: 0.9069\n",
      "Epoch 9/10\n",
      "469/469 [==============================] - 16s 34ms/step - loss: 0.1110 - accuracy: 0.9603 - val_loss: 0.2933 - val_accuracy: 0.9067\n",
      "Epoch 10/10\n",
      "469/469 [==============================] - 16s 34ms/step - loss: 0.0977 - accuracy: 0.9653 - val_loss: 0.3144 - val_accuracy: 0.9060\n"
     ]
    }
   ],
   "source": [
    "model = Sequential()\n",
    "\n",
    "model.add(Conv2D(25, kernel_size=(3,3), strides=(1,1), padding='valid', activation='relu', input_shape=(28,28,1)))\n",
    "model.add(MaxPool2D(pool_size=(1,1)))\n",
    "model.add(Flatten())\n",
    "model.add(Dense(90, activation='relu'))\n",
    "model.add(Dense(10, activation='softmax'))\n",
    "\n",
    "model.compile(loss='categorical_crossentropy', metrics=['accuracy'], optimizer='adam')\n",
    "\n",
    "history = model.fit(X_train, Y_train, batch_size=128, epochs=10, validation_data=(X_test, Y_test))"
   ]
  },
  {
   "cell_type": "code",
   "execution_count": 6,
   "id": "69b5dd00-82c0-47a7-adb1-8a0ddc38b638",
   "metadata": {},
   "outputs": [
    {
     "data": {
      "image/png": "[encoded data removed]",
      "text/plain": [
       "<Figure size 432x288 with 1 Axes>"
      ]
     },
     "metadata": {
      "needs_background": "light"
     },
     "output_type": "display_data"
    }
   ],
   "source": [
    "history_dict = history.history\n",
    "history_dict.keys()\n",
    "\n",
    "history_dict = history.history\n",
    "loss_values = history_dict[\"loss\"]\n",
    "val_loss_values = history_dict[\"val_loss\"]\n",
    "epochs = range(1, len(loss_values) + 1)\n",
    "plt.plot(epochs, loss_values, \"bo\", label=\"Training loss\")\n",
    "plt.plot(epochs, val_loss_values, \"b\", label=\"Validation loss\")\n",
    "plt.title(\"Training and validation loss\")\n",
    "plt.xlabel(\"Epochs\")\n",
    "plt.ylabel(\"Loss\")\n",
    "plt.legend()\n",
    "plt.show()"
   ]
  },
  {
   "cell_type": "code",
   "execution_count": null,
   "id": "a018d47a-067b-4678-9327-67e5b33f55f1",
   "metadata": {},
   "outputs": [],
   "source": []
  }
 ],
 "metadata": {
  "kernelspec": {
   "display_name": "Python 3",
   "language": "python",
   "name": "python3"
  },
  "language_info": {
   "codemirror_mode": {
    "name": "ipython",
    "version": 3
   },
   "file_extension": ".py",
   "mimetype": "text/x-python",
   "name": "python",
   "nbconvert_exporter": "python",
   "pygments_lexer": "ipython3",
   "version": "3.8.8"
  }
 },
 "nbformat": 4,
 "nbformat_minor": 5
}
